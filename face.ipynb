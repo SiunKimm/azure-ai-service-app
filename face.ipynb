{
 "cells": [
  {
   "cell_type": "code",
   "execution_count": null,
   "id": "493d0a23",
   "metadata": {},
   "outputs": [],
   "source": [
    "import cv2\n",
    "import gradio as gr\n",
    "\n",
    "# Haar Cascade 파일 로드\n",
    "cascPath = 'haarcascade_frontalface_default.xml'\n",
    "faceCascade = cv2.CascadeClassifier(cascPath)\n",
    "\n",
    "def mosaic_face(image):\n",
    "    if image is None:\n",
    "        return None\n",
    "\n",
    "    # Gradio는 RGB로 들어옴 → BGR로 변환\n",
    "    image = cv2.cvtColor(image, cv2.COLOR_RGB2BGR)\n",
    "    gray = cv2.cvtColor(image, cv2.COLOR_BGR2GRAY)\n",
    "\n",
    "    faces = faceCascade.detectMultiScale(\n",
    "        gray, scaleFactor=1.1, minNeighbors=5, minSize=(30, 30)\n",
    "    )\n",
    "\n",
    "    for (x, y, w, h) in faces:\n",
    "        face_roi = image[y:y+h, x:x+w]\n",
    "\n",
    "        # 모자이크 처리\n",
    "        mosaic = cv2.resize(face_roi, (10, 10), interpolation=cv2.INTER_LINEAR)\n",
    "        mosaic = cv2.resize(mosaic, (w, h), interpolation=cv2.INTER_NEAREST)\n",
    "\n",
    "        image[y:y+h, x:x+w] = mosaic\n",
    "\n",
    "    # 다시 RGB로 변환해서 Gradio로 리턴\n",
    "    return cv2.cvtColor(image, cv2.COLOR_BGR2RGB)\n",
    "\n",
    "# Gradio 인터페이스\n",
    "with gr.Blocks() as demo:\n",
    "    with gr.Row():\n",
    "        webcam = gr.Image(sources=\"webcam\", streaming=True, type=\"numpy\", label=\"Webcam Input\")\n",
    "        output = gr.Image(label=\"Mosaic Output\", streaming=True)\n",
    "\n",
    "    webcam.stream(fn=mosaic_face, inputs=webcam, outputs=output)\n",
    "\n",
    "demo.launch()\n"
   ]
  }
 ],
 "metadata": {
  "kernelspec": {
   "display_name": "py313",
   "language": "python",
   "name": "python3"
  },
  "language_info": {
   "codemirror_mode": {
    "name": "ipython",
    "version": 3
   },
   "file_extension": ".py",
   "mimetype": "text/x-python",
   "name": "python",
   "nbconvert_exporter": "python",
   "pygments_lexer": "ipython3",
   "version": "3.13.2"
  }
 },
 "nbformat": 4,
 "nbformat_minor": 5
}
